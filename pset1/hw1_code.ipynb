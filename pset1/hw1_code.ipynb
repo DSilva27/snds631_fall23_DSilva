{
  "nbformat": 4,
  "nbformat_minor": 0,
  "metadata": {
    "colab": {
      "provenance": []
    },
    "kernelspec": {
      "name": "python3",
      "display_name": "Python 3"
    },
    "language_info": {
      "name": "python"
    }
  },
  "cells": [
    {
      "cell_type": "markdown",
      "source": [
        "# Problem 6"
      ],
      "metadata": {
        "id": "e1tlTbGHbOUS"
      }
    },
    {
      "cell_type": "code",
      "execution_count": null,
      "metadata": {
        "id": "A4D9E5djbDy8"
      },
      "outputs": [],
      "source": [
        "\n",
        "\n",
        "import autograd.numpy as np\n",
        "import autograd\n",
        "import matplotlib.pyplot as plt\n",
        "\n",
        "def newton_raphson(f, x0, tol=1e-6, max_iter=100):\n",
        "    # Define the gradient and Hessian using autograd\n",
        "    jacobian = autograd.jacobian(f)\n",
        "    # YOUR CODE\n",
        "    pass\n",
        "\n",
        "# One-dimensional examples\n",
        "def f1(x):\n",
        "    return x**3 - 6*x**2 + 11*x - 6\n",
        "\n",
        "def f2(x):\n",
        "    return np.exp(x) - 3*x\n",
        "\n",
        "def f3(x):\n",
        "    return np.cos(x) - x\n",
        "\n",
        "# Two-dimensional examples\n",
        "def f4(x):\n",
        "    return np.array([x[0]**2 + x[1]**2 - 4, x[0]*x[1] - 1])\n",
        "\n",
        "def f5(x):\n",
        "    return np.array([x[0]**2 - x[1], x[0]**2 + x[1]**2 - 5])\n",
        "\n",
        "\n",
        "root1 = newton_raphson(f1, 0.0)\n",
        "root2 = newton_raphson(f2, 0.0)\n",
        "root3 = newton_raphson(f3, 0.0)\n",
        "root4 = newton_raphson(f4, np.array([3.0, 1.0]))\n",
        "root5 = newton_raphson(f5, np.array([3.0, 1.0]))\n",
        "\n",
        "# Test the functions\n",
        "print(\"the root found by Newton Raphson is\", root1, \"the value of f1 is\", f1(root1))\n",
        "print(\"the root found by Newton Raphson is\", root2, \"the value of f2 is\", f2(root2))\n",
        "print(\"the root found by Newton Raphson is\", root3, \"the value of f3 is\", f3(root3))\n",
        "print(\"the root found by Newton Raphson is\", root4, \"the value of f4 is\", f4(root4))\n",
        "print(\"the root found by Newton Raphson is\", root4, \"the value of f5 is\", f5(root5))\n",
        "\n"
      ]
    },
    {
      "cell_type": "markdown",
      "source": [
        "# Problem 7: Nonnegative Matrix Factorization\n",
        "\n"
      ],
      "metadata": {
        "id": "HmPeqLYjbItA"
      }
    },
    {
      "cell_type": "code",
      "source": [
        "def nmf(V, k, max_iter=100, tol=1e-10):\n",
        "    m, n = V.shape\n",
        "    # Initialize W and H with random nonnegative values\n",
        "    W = np.abs(np.random.randn(m, k))\n",
        "    H = np.abs(np.random.randn(k, n))\n",
        "    for _ in range(max_iter):\n",
        "        # YOUR CODE\n",
        "        # Convergence check\n",
        "        if np.linalg.norm(V - W @ H) < tol:\n",
        "            break\n",
        "    return W, H\n"
      ],
      "metadata": {
        "id": "trJcH8G8bMvs"
      },
      "execution_count": null,
      "outputs": []
    },
    {
      "cell_type": "code",
      "source": [
        "import numpy as np\n",
        "from sklearn.feature_extraction.text import TfidfVectorizer\n",
        "from sklearn.decomposition import NMF\n",
        "\n",
        "# Sample corpus (collection of documents)\n",
        "corpus = [\n",
        "    \"Apple releases new iPhone\",\n",
        "    \"Samsung announces Galaxy phone\",\n",
        "    \"Apple and Samsung compete in the smartphone market\",\n",
        "    \"NASA launches new satellite\",\n",
        "    \"SpaceX sends astronauts to the space station\",\n",
        "    \"Apple and NASA collaborate on space technology\"\n",
        "]\n",
        "\n",
        "# Convert the corpus into a term-document matrix using TF-IDF weighting\n",
        "vectorizer = TfidfVectorizer(stop_words='english')\n",
        "X = vectorizer.fit_transform(corpus)\n",
        "\n",
        "# Apply NMF\n",
        "# Assume there are three topics\n",
        "W, H = nmf(X, k=3)\n",
        "\n",
        "# Print the most significant terms for each topic\n",
        "terms = vectorizer.get_feature_names_out()\n",
        "for i, topic in enumerate(H):\n",
        "    print(f\"Topic {i+1}:\")\n",
        "    print(\" \".join([terms[j] for j in topic.argsort()[-5:]]))\n",
        "    print()\n",
        "\n",
        "# For each document, print the most significant topic\n",
        "for i, doc in enumerate(corpus):\n",
        "    print(f\"Document {i+1} ({doc}) is mostly about Topic {np.argmax(W[i])+1}\")\n",
        "    print()\n"
      ],
      "metadata": {
        "colab": {
          "base_uri": "https://localhost:8080/"
        },
        "id": "-4n12iOzbY5z",
        "outputId": "c5f77a17-767b-4ede-c49b-7882eb8ca401"
      },
      "execution_count": null,
      "outputs": [
        {
          "output_type": "stream",
          "name": "stdout",
          "text": [
            "Topic 1:\n",
            "station astronauts sends spacex space\n",
            "\n",
            "Topic 2:\n",
            "smartphone galaxy phone announces samsung\n",
            "\n",
            "Topic 3:\n",
            "releases satellite launches nasa new\n",
            "\n",
            "Document 1 (Apple releases new iPhone) is mostly about Topic 3\n",
            "\n",
            "Document 2 (Samsung announces Galaxy phone) is mostly about Topic 2\n",
            "\n",
            "Document 3 (Apple and Samsung compete in the smartphone market) is mostly about Topic 2\n",
            "\n",
            "Document 4 (NASA launches new satellite) is mostly about Topic 3\n",
            "\n",
            "Document 5 (SpaceX sends astronauts to the space station) is mostly about Topic 1\n",
            "\n",
            "Document 6 (Apple and NASA collaborate on space technology) is mostly about Topic 1\n",
            "\n"
          ]
        }
      ]
    },
    {
      "cell_type": "code",
      "source": [],
      "metadata": {
        "id": "5YvUyGTpbjZH"
      },
      "execution_count": null,
      "outputs": []
    }
  ]
}