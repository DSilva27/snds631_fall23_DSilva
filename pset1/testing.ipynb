{
 "cells": [
  {
   "cell_type": "code",
   "execution_count": 50,
   "metadata": {},
   "outputs": [],
   "source": [
    "import jax.numpy as jnp\n",
    "import jax\n",
    "from jax.typing import ArrayLike\n",
    "import numpy as np\n",
    "from typing import Union, Optional"
   ]
  },
  {
   "cell_type": "code",
   "execution_count": 49,
   "metadata": {},
   "outputs": [],
   "source": [
    "def newton_rapson_1d(f: callable, x0: float, tol: float = 1e-6, max_iter: int = 100):\n",
    "    grad_f = jax.jit(jax.grad(f))\n",
    "    x = x0\n",
    "    for _ in range(max_iter):\n",
    "        x = x - f(x) / grad_f(x)\n",
    "        if jnp.abs(f(x)) < tol:\n",
    "            return x, f(x)\n",
    "\n",
    "    raise RuntimeError(\"Failed to converge, max iterations exceeded\")\n",
    "\n",
    "\n",
    "def newton_rapson_nd(\n",
    "    f: callable, x0: ArrayLike, tol: float = 1e-6, max_iter: int = 100\n",
    "):\n",
    "    jacob_f = jax.jit(jax.jacfwd(f))\n",
    "    x = x0.copy()\n",
    "\n",
    "    for _ in range(max_iter):\n",
    "        x = x - jnp.linalg.solve(jacob_f(x), f(x))\n",
    "        if jnp.linalg.norm(f(x)) < tol:\n",
    "            return x, f(x)\n",
    "\n",
    "    raise RuntimeError(\"Failed to converge, max iterations exceeded\")"
   ]
  },
  {
   "cell_type": "code",
   "execution_count": 33,
   "metadata": {},
   "outputs": [],
   "source": [
    "def newton_rapson(\n",
    "    f: callable, x0: Union[float, ArrayLike], tol: float = 1e-6, max_iter: int = 100\n",
    "):\n",
    "    if isinstance(x0, float):\n",
    "        return newton_rapson_1d(f, x0, tol, max_iter)\n",
    "    else:\n",
    "        return newton_rapson_nd(f, x0, tol, max_iter)"
   ]
  },
  {
   "cell_type": "code",
   "execution_count": 24,
   "metadata": {},
   "outputs": [],
   "source": [
    "@jax.jit\n",
    "def f1(x):\n",
    "    return x**3 - 6 * x**2 + 11 * x - 6\n",
    "\n",
    "\n",
    "@jax.jit\n",
    "def f2(x):\n",
    "    return jnp.exp(x) - 3 * x\n",
    "\n",
    "\n",
    "@jax.jit\n",
    "def f3(x):\n",
    "    return jnp.cos(x) - x\n",
    "\n",
    "\n",
    "# Two-dimensional examples\n",
    "@jax.jit\n",
    "def f4(x):\n",
    "    return jnp.array([x[0] ** 2 + x[1] ** 2 - 4, x[0] * x[1] - 1])\n",
    "\n",
    "\n",
    "@jax.jit\n",
    "def f5(x):\n",
    "    return jnp.array([x[0] ** 2 - x[1], x[0] ** 2 + x[1] ** 2 - 5])"
   ]
  },
  {
   "cell_type": "code",
   "execution_count": 25,
   "metadata": {},
   "outputs": [],
   "source": [
    "root1 = newton_rapson_1d(f1, 0.0)\n",
    "root2 = newton_rapson_1d(f2, 0.0)\n",
    "root3 = newton_rapson_1d(f3, 0.0)"
   ]
  },
  {
   "cell_type": "code",
   "execution_count": 35,
   "metadata": {},
   "outputs": [],
   "source": [
    "root4 = newton_rapson_2d(f4, jnp.array([3.0, 1.0]))\n",
    "root5 = newton_rapson_2d(f5, jnp.array([3.0, 1.0]))"
   ]
  },
  {
   "cell_type": "code",
   "execution_count": 36,
   "metadata": {},
   "outputs": [
    {
     "name": "stdout",
     "output_type": "stream",
     "text": [
      "The root found by Newton-Rapson method is: 0.9999999403953552, the value of f1 is 4.76837158203125e-07\n",
      "The root found by Newton-Rapson method is: 0.619061291217804, the value of f2 is -5.960464477539063e-08\n",
      "The root found by Newton-Rapson method is: 0.7390851378440857, the value of f3 is 0.0\n",
      "The root found by Newton-Rapson method is: [1.9318516 0.5176381], the value of f4 is [ 0.0000000e+00 -1.9711393e-08]\n",
      "The root found by Newton-Rapson method is: [-1.3076605 -1.709976 ], the value of f5 is [-1.1920929e-07 -4.3629419e-07]\n"
     ]
    }
   ],
   "source": [
    "print(\n",
    "    f\"The root found by Newton-Rapson method is: {root1[0]}, the value of f1 is {root1[1]}\"\n",
    ")\n",
    "print(\n",
    "    f\"The root found by Newton-Rapson method is: {root2[0]}, the value of f2 is {root2[1]}\"\n",
    ")\n",
    "print(\n",
    "    f\"The root found by Newton-Rapson method is: {root3[0]}, the value of f3 is {root3[1]}\"\n",
    ")\n",
    "print(\n",
    "    f\"The root found by Newton-Rapson method is: {root4[0]}, the value of f4 is {root4[1]}\"\n",
    ")\n",
    "print(\n",
    "    f\"The root found by Newton-Rapson method is: {root5[0]}, the value of f5 is {root5[1]}\"\n",
    ")"
   ]
  },
  {
   "cell_type": "code",
   "execution_count": 60,
   "metadata": {},
   "outputs": [
    {
     "data": {
      "text/plain": [
       "<matplotlib.lines.Line2D at 0x7f757625de10>"
      ]
     },
     "execution_count": 60,
     "metadata": {},
     "output_type": "execute_result"
    },
    {
     "data": {
      "image/png": "[encoded data removed]",
      "text/plain": [
       "<Figure size 640x480 with 1 Axes>"
      ]
     },
     "metadata": {},
     "output_type": "display_data"
    }
   ],
   "source": [
    "import matplotlib.pyplot as plt\n",
    "\n",
    "t = np.linspace(0, np.pi / 2, 100)\n",
    "x = np.linspace(1.5, 3)\n",
    "plt.plot(2 * np.cos(t), 2 * np.sin(t))\n",
    "plt.plot(x, 1 / x)\n",
    "\n",
    "plt.axvline(x=root4[0][0], color=\"r\")\n",
    "plt.axhline(y=root4[0][1], color=\"r\")"
   ]
  },
  {
   "cell_type": "code",
   "execution_count": 64,
   "metadata": {},
   "outputs": [],
   "source": [
    "def nmf(V, k, max_iter=100, tol=1e-10):\n",
    "    m, n = V.shape\n",
    "    # Initialize W and H with random nonnegative values\n",
    "    W = np.abs(np.random.randn(m, k))\n",
    "    H = np.abs(np.random.randn(k, n))\n",
    "    for _ in range(max_iter):\n",
    "        \n",
    "        H = H * (W.T @ V) / (W.T @ W @ H)\n",
    "        W = W * (V @ H.T) / (W @ H @ H.T)\n",
    "        \n",
    "        # Convergence check\n",
    "        if np.linalg.norm(V - W @ H) < tol:\n",
    "            break\n",
    "    return W, H"
   ]
  },
  {
   "cell_type": "code",
   "execution_count": 66,
   "metadata": {},
   "outputs": [
    {
     "name": "stdout",
     "output_type": "stream",
     "text": [
      "Topic 1:\n",
      "smartphone galaxy phone announces samsung\n",
      "\n",
      "Topic 2:\n",
      "station astronauts sends spacex space\n",
      "\n",
      "Topic 3:\n",
      "iphone releases satellite launches new\n",
      "\n",
      "Document 1 (Apple releases new iPhone) is mostly about Topic 3\n",
      "\n",
      "Document 2 (Samsung announces Galaxy phone) is mostly about Topic 1\n",
      "\n",
      "Document 3 (Apple and Samsung compete in the smartphone market) is mostly about Topic 1\n",
      "\n",
      "Document 4 (NASA launches new satellite) is mostly about Topic 3\n",
      "\n",
      "Document 5 (SpaceX sends astronauts to the space station) is mostly about Topic 2\n",
      "\n",
      "Document 6 (Apple and NASA collaborate on space technology) is mostly about Topic 2\n",
      "\n"
     ]
    }
   ],
   "source": [
    "import numpy as np\n",
    "from sklearn.feature_extraction.text import TfidfVectorizer\n",
    "from sklearn.decomposition import NMF\n",
    "\n",
    "np.random.seed(0)\n",
    "# Sample corpus (collection of documents)\n",
    "corpus = [\n",
    "    \"Apple releases new iPhone\",\n",
    "    \"Samsung announces Galaxy phone\",\n",
    "    \"Apple and Samsung compete in the smartphone market\",\n",
    "    \"NASA launches new satellite\",\n",
    "    \"SpaceX sends astronauts to the space station\",\n",
    "    \"Apple and NASA collaborate on space technology\"\n",
    "]\n",
    "\n",
    "# Convert the corpus into a term-document matrix using TF-IDF weighting\n",
    "vectorizer = TfidfVectorizer(stop_words='english')\n",
    "X = vectorizer.fit_transform(corpus)\n",
    "\n",
    "# Apply NMF\n",
    "# Assume there are three topics\n",
    "W, H = nmf(X, k=3)\n",
    "\n",
    "# Print the most significant terms for each topic\n",
    "terms = vectorizer.get_feature_names_out()\n",
    "for i, topic in enumerate(H):\n",
    "    print(f\"Topic {i+1}:\")\n",
    "    print(\" \".join([terms[j] for j in topic.argsort()[-5:]]))\n",
    "    print()\n",
    "\n",
    "# For each document, print the most significant topic\n",
    "for i, doc in enumerate(corpus):\n",
    "    print(f\"Document {i+1} ({doc}) is mostly about Topic {np.argmax(W[i])+1}\")\n",
    "    print()"
   ]
  }
 ],
 "metadata": {
  "kernelspec": {
   "display_name": "optimization_env",
   "language": "python",
   "name": "python3"
  },
  "language_info": {
   "codemirror_mode": {
    "name": "ipython",
    "version": 3
   },
   "file_extension": ".py",
   "mimetype": "text/x-python",
   "name": "python",
   "nbconvert_exporter": "python",
   "pygments_lexer": "ipython3",
   "version": "3.11.5"
  },
  "orig_nbformat": 4
 },
 "nbformat": 4,
 "nbformat_minor": 2
}
