{
 "cells": [
  {
   "cell_type": "code",
   "execution_count": 1,
   "metadata": {},
   "outputs": [],
   "source": [
    "import cvxpy as cp\n",
    "import numpy as np"
   ]
  },
  {
   "cell_type": "code",
   "execution_count": 3,
   "metadata": {},
   "outputs": [
    {
     "name": "stdout",
     "output_type": "stream",
     "text": [
      "Optimal values for x, y: [0.4 0.2]\n"
     ]
    }
   ],
   "source": [
    "# a) f_0(x1, x2) = x1 + x2\n",
    "\n",
    "x = cp.Variable(2)\n",
    "\n",
    "objective = cp.Minimize(x[0] + x[1])\n",
    "constraints = [\n",
    "    x >= 0,\n",
    "    2 * x[0] + x[1] >= 1,\n",
    "    x[0] + 3 * x[1] >= 1\n",
    "]\n",
    "\n",
    "problem = cp.Problem(objective, constraints)\n",
    "result = problem.solve()\n",
    "\n",
    "#np.set_printoptions(formatter={\"float\": lambda x: \"{0:0.3f}\".format(x)})\n",
    "print(\"Optimal values for x, y:\", x.value)"
   ]
  },
  {
   "cell_type": "code",
   "execution_count": 4,
   "metadata": {},
   "outputs": [
    {
     "name": "stdout",
     "output_type": "stream",
     "text": [
      "Optimal values for x, y: None\n"
     ]
    }
   ],
   "source": [
    "# b) f_0(x_1, x_2) = -x_1 - x_2\n",
    "\n",
    "x = cp.Variable(2)\n",
    "\n",
    "objective = cp.Minimize(-x[0] - x[1])\n",
    "constraints = [\n",
    "    x >= 0,\n",
    "    2 * x[0] + x[1] >= 1,\n",
    "    x[0] + 3 * x[1] >= 1\n",
    "]\n",
    "\n",
    "problem = cp.Problem(objective, constraints)\n",
    "result = problem.solve()\n",
    "\n",
    "print(\"Optimal values for x, y:\", x.value)"
   ]
  },
  {
   "cell_type": "code",
   "execution_count": 5,
   "metadata": {},
   "outputs": [
    {
     "name": "stdout",
     "output_type": "stream",
     "text": [
      "Optimal values for x, y: [-2.24914418e-10  1.55371590e+00]\n"
     ]
    }
   ],
   "source": [
    "# c) f_0(x_1, x_2) = x_1\n",
    "\n",
    "x = cp.Variable(2)\n",
    "\n",
    "objective = cp.Minimize(x[0])\n",
    "constraints = [\n",
    "    x >= 0,\n",
    "    2 * x[0] + x[1] >= 1,\n",
    "    x[0] + 3 * x[1] >= 1\n",
    "]\n",
    "\n",
    "problem = cp.Problem(objective, constraints)\n",
    "result = problem.solve()\n",
    "\n",
    "print(\"Optimal values for x, y:\", x.value)"
   ]
  },
  {
   "cell_type": "code",
   "execution_count": 6,
   "metadata": {},
   "outputs": [
    {
     "name": "stdout",
     "output_type": "stream",
     "text": [
      "Optimal values for x, y: [0.33333333 0.33333333]\n"
     ]
    }
   ],
   "source": [
    "# d) f_0(x_1, x_2) = max(x_1, x_2)\n",
    "\n",
    "x = cp.Variable(2)\n",
    "\n",
    "objective = cp.Minimize(cp.maximum(x[0], x[1]))\n",
    "constraints = [\n",
    "    x >= 0,\n",
    "    2 * x[0] + x[1] >= 1,\n",
    "    x[0] + 3 * x[1] >= 1\n",
    "]\n",
    "\n",
    "problem = cp.Problem(objective, constraints)\n",
    "result = problem.solve()\n",
    "\n",
    "print(\"Optimal values for x, y:\", x.value)"
   ]
  },
  {
   "cell_type": "code",
   "execution_count": 7,
   "metadata": {},
   "outputs": [
    {
     "name": "stdout",
     "output_type": "stream",
     "text": [
      "Optimal values for x, y: [0.5        0.16666667]\n"
     ]
    }
   ],
   "source": [
    "# e) f_0(x_1, x_2) = x_1^2 + 9 * x_2^2\n",
    "\n",
    "x = cp.Variable(2)\n",
    "\n",
    "objective = cp.Minimize(x[0] ** 2 + 9 * x[1] ** 2)\n",
    "constraints = [\n",
    "    x >= 0,\n",
    "    2 * x[0] + x[1] >= 1,\n",
    "    x[0] + 3 * x[1] >= 1\n",
    "]\n",
    "\n",
    "problem = cp.Problem(objective, constraints)\n",
    "result = problem.solve()\n",
    "\n",
    "print(\"Optimal values for x, y:\", x.value)"
   ]
  }
 ],
 "metadata": {
  "kernelspec": {
   "display_name": "optimization_env",
   "language": "python",
   "name": "python3"
  },
  "language_info": {
   "codemirror_mode": {
    "name": "ipython",
    "version": 3
   },
   "file_extension": ".py",
   "mimetype": "text/x-python",
   "name": "python",
   "nbconvert_exporter": "python",
   "pygments_lexer": "ipython3",
   "version": "3.11.5"
  },
  "orig_nbformat": 4
 },
 "nbformat": 4,
 "nbformat_minor": 2
}
